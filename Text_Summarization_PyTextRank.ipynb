{
 "cells": [
  {
   "cell_type": "markdown",
   "metadata": {
    "colab_type": "text",
    "id": "LCzCAelCEyI8"
   },
   "source": [
    "# Text Summarization\n",
    "\n",
    "Text summarization refers to the technique of shortening long pieces of text. The intention is to create a coherent and fluent summary having only the main points outlined in the document.\n",
    "Automatic text summarization is a common problem in machine learning and natural language processing (NLP)."
   ]
  },
  {
   "cell_type": "markdown",
   "metadata": {
    "colab_type": "text",
    "id": "GDffqoZTNa77"
   },
   "source": [
    "There are broadly two different approaches that are used for text summarization:\n",
    "\n",
    "* Extractive Summarization\n",
    "* Abstractive Summarization\n"
   ]
  },
  {
   "cell_type": "markdown",
   "metadata": {
    "colab_type": "text",
    "id": "_TttZz-jNdY5"
   },
   "source": [
    "In this notebook, we will build an extraction based text summarizer using python"
   ]
  },
  {
   "cell_type": "markdown",
   "metadata": {
    "colab_type": "text",
    "id": "_PunVOZUNtyw"
   },
   "source": [
    "### Extractive Summarization\n",
    "The name gives away what this approach does. We identify the important sentences or phrases from the original text and extract only those from the text. Those extracted sentences would be our summary. The below diagram illustrates extractive summarization:"
   ]
  },
  {
   "cell_type": "markdown",
   "metadata": {
    "colab_type": "text",
    "id": "yOgk05CuNy9Z"
   },
   "source": [
    "![Extractive Summarization](images/Extractive_Summarization.png)"
   ]
  },
  {
   "cell_type": "markdown",
   "metadata": {
    "colab_type": "text",
    "id": "FdTYgBOqE_lF"
   },
   "source": [
    "# TextRank Algorithm\n",
    "\n",
    "TextRank is an automatic summarisation technique. Graph-based ranking algorithms are a way for deciding the importance of a vertex within a graph, based on global information recursively drawn from the entire graph. The basic idea implemented by a graph-based ranking model is that of voting or recommendation."
   ]
  },
  {
   "cell_type": "markdown",
   "metadata": {
    "colab_type": "text",
    "id": "4etnJ8jMrMAg"
   },
   "source": [
    "![TextRank](images/text_rank.png)"
   ]
  },
  {
   "cell_type": "markdown",
   "metadata": {
    "colab_type": "text",
    "id": "diVkUpEnYF59"
   },
   "source": [
    "# Text Summarization using pytextrank\n",
    "https://github.com/DerwenAI/pytextrank"
   ]
  },
  {
   "cell_type": "code",
   "execution_count": 0,
   "metadata": {
    "colab": {
     "base_uri": "https://localhost:8080/",
     "height": 765
    },
    "colab_type": "code",
    "executionInfo": {
     "elapsed": 7662,
     "status": "ok",
     "timestamp": 1576674662659,
     "user": {
      "displayName": "Saikumar Dev",
      "photoUrl": "",
      "userId": "03015931960176323674"
     },
     "user_tz": -330
    },
    "id": "s6Ebm9ruIatP",
    "outputId": "e01924b1-3ded-4baf-9789-868e601609b8"
   },
   "outputs": [
    {
     "name": "stdout",
     "output_type": "stream",
     "text": [
      "0.1567     1  minimal generating sets\n",
      "[minimal generating sets]\n",
      "0.1371     4  systems\n",
      "[systems, systems, systems, a system]\n",
      "0.1178     3  solutions\n",
      "[solutions, solutions, solutions]\n",
      "0.1164     1  linear diophantine equations\n",
      "[linear Diophantine equations]\n",
      "0.1077     1  nonstrict inequations\n",
      "[nonstrict inequations]\n",
      "0.1050     1  mixed types\n",
      "[mixed types]\n",
      "0.1044     1  strict inequations\n",
      "[strict inequations]\n",
      "0.1000     1  a minimal supporting set\n",
      "[a minimal supporting set]\n",
      "0.0979     1  linear constraints\n",
      "[linear constraints]\n",
      "0.0919     1  upper bounds\n",
      "[Upper bounds]\n",
      "0.0913     1  a minimal set\n",
      "[a minimal set]\n",
      "0.0804     1  components\n",
      "[components]\n",
      "0.0797     1  natural numbers\n",
      "[natural numbers]\n",
      "0.0797     1  algorithms\n",
      "[algorithms]\n",
      "0.0782     1  all the considered types systems\n",
      "[all the considered types systems]\n",
      "0.0768     1  diophantine\n",
      "[Diophantine]\n",
      "0.0697     2  compatibility\n",
      "[Compatibility, compatibility]\n",
      "0.0693     1  construction\n",
      "[construction]\n",
      "0.0668     1  the set\n",
      "[the set]\n",
      "0.0629     2  criteria\n",
      "[Criteria, These criteria]\n",
      "0.0588     1  the corresponding algorithms\n",
      "[the corresponding algorithms]\n",
      "0.0528     1  all types\n",
      "[all types]\n"
     ]
    }
   ],
   "source": [
    "import spacy\n",
    "import pytextrank\n",
    "\n",
    "# example text\n",
    "text = \"Compatibility of systems of linear constraints over the set of natural numbers. Criteria of compatibility of a system of linear Diophantine equations, strict inequations, and nonstrict inequations are considered. Upper bounds for components of a minimal set of solutions and algorithms of construction of minimal generating sets of solutions for all types of systems are given. These criteria and the corresponding algorithms for constructing a minimal supporting set of solutions can be used in solving all the considered types systems and systems of mixed types.\"\n",
    "\n",
    "# load a spaCy model, depending on language, scale, etc.\n",
    "nlp = spacy.load(\"en_core_web_sm\")\n",
    "\n",
    "# add PyTextRank to the spaCy pipeline\n",
    "tr = pytextrank.TextRank()\n",
    "nlp.add_pipe(tr.PipelineComponent, name=\"textrank\", last=True)\n",
    "\n",
    "doc = nlp(text)\n",
    "\n",
    "# examine the top-ranked phrases in the document\n",
    "for p in doc._.phrases:\n",
    "    print(\"{:.4f} {:5d}  {}\".format(p.rank, p.count, p.text))\n",
    "    print(p.chunks)"
   ]
  },
  {
   "cell_type": "markdown",
   "metadata": {
    "colab_type": "text",
    "id": "YBEd9aMnRr6D"
   },
   "source": [
    "Construct a list of the sentence boundaries with a phrase vector (initialized to empty set) for each..."
   ]
  },
  {
   "cell_type": "code",
   "execution_count": 0,
   "metadata": {
    "colab": {
     "base_uri": "https://localhost:8080/",
     "height": 34
    },
    "colab_type": "code",
    "executionInfo": {
     "elapsed": 1715,
     "status": "ok",
     "timestamp": 1576677072920,
     "user": {
      "displayName": "Saikumar Dev",
      "photoUrl": "",
      "userId": "03015931960176323674"
     },
     "user_tz": -330
    },
    "id": "rP8XJiS6Ifq_",
    "outputId": "2c11b917-6381-4edb-fb1b-32fe10ece3a0"
   },
   "outputs": [
    {
     "data": {
      "text/plain": [
       "[[0, 13, set()], [13, 33, set()], [33, 61, set()], [61, 91, set()]]"
      ]
     },
     "execution_count": 66,
     "metadata": {
      "tags": []
     },
     "output_type": "execute_result"
    }
   ],
   "source": [
    "sent_bounds = [ [s.start, s.end, set([])] for s in doc.sents ]\n",
    "sent_bounds"
   ]
  },
  {
   "cell_type": "markdown",
   "metadata": {
    "colab_type": "text",
    "id": "h8Ps-uQgRvuY"
   },
   "source": [
    "Iterate through the top-ranked phrases, added them to the phrase vector for each sentence..."
   ]
  },
  {
   "cell_type": "code",
   "execution_count": 0,
   "metadata": {
    "colab": {
     "base_uri": "https://localhost:8080/",
     "height": 391
    },
    "colab_type": "code",
    "executionInfo": {
     "elapsed": 1420,
     "status": "ok",
     "timestamp": 1576677122185,
     "user": {
      "displayName": "Saikumar Dev",
      "photoUrl": "",
      "userId": "03015931960176323674"
     },
     "user_tz": -330
    },
    "id": "EY8iAgy_RtkF",
    "outputId": "85a0d565-1693-4f57-b053-43f279176546"
   },
   "outputs": [
    {
     "name": "stdout",
     "output_type": "stream",
     "text": [
      "0 minimal generating sets 0.15674194595995644\n",
      "  48 51\n",
      "  33 48 51 61\n",
      "1 systems 0.13714815025016455\n",
      "  2 3\n",
      "  0 2 3 13\n",
      "  57 58\n",
      "  33 57 58 61\n",
      "  86 87\n",
      "  61 86 87 91\n",
      "  17 19\n",
      "  13 17 19 33\n",
      "2 solutions 0.11782962717984638\n",
      "  42 43\n",
      "  33 42 43 61\n",
      "  52 53\n",
      "  33 52 53 61\n",
      "  74 75\n",
      "  61 74 75 91\n",
      "3 linear diophantine equations 0.11639333486895956\n",
      "  20 23\n",
      "  13 20 23 33\n"
     ]
    }
   ],
   "source": [
    "limit_phrases = 4\n",
    "\n",
    "phrase_id = 0\n",
    "unit_vector = []\n",
    "\n",
    "for p in doc._.phrases:\n",
    "    print(phrase_id, p.text, p.rank)\n",
    "    \n",
    "    unit_vector.append(p.rank)\n",
    "    \n",
    "    for chunk in p.chunks:\n",
    "        print(\" \", chunk.start, chunk.end)\n",
    "        \n",
    "        for sent_start, sent_end, sent_vector in sent_bounds:\n",
    "            if chunk.start >= sent_start and chunk.start <= sent_end:\n",
    "                print(\" \", sent_start, chunk.start, chunk.end, sent_end)\n",
    "                sent_vector.add(phrase_id)\n",
    "                break\n",
    "\n",
    "    phrase_id += 1\n",
    "\n",
    "    if phrase_id == limit_phrases:\n",
    "        break"
   ]
  },
  {
   "cell_type": "markdown",
   "metadata": {
    "colab_type": "text",
    "id": "VOFFDeZmR77g"
   },
   "source": [
    "Let's take a look at the results..."
   ]
  },
  {
   "cell_type": "code",
   "execution_count": 0,
   "metadata": {
    "colab": {
     "base_uri": "https://localhost:8080/",
     "height": 34
    },
    "colab_type": "code",
    "executionInfo": {
     "elapsed": 1516,
     "status": "ok",
     "timestamp": 1576677245641,
     "user": {
      "displayName": "Saikumar Dev",
      "photoUrl": "",
      "userId": "03015931960176323674"
     },
     "user_tz": -330
    },
    "id": "bROTYlrvRxbv",
    "outputId": "e0d87ad0-821e-43fa-82a5-a49641d39f83"
   },
   "outputs": [
    {
     "data": {
      "text/plain": [
       "[[0, 13, {1}], [13, 33, {1, 3}], [33, 61, {0, 1, 2}], [61, 91, {1, 2}]]"
      ]
     },
     "execution_count": 69,
     "metadata": {
      "tags": []
     },
     "output_type": "execute_result"
    }
   ],
   "source": [
    "sent_bounds"
   ]
  },
  {
   "cell_type": "code",
   "execution_count": 0,
   "metadata": {
    "colab": {
     "base_uri": "https://localhost:8080/",
     "height": 105
    },
    "colab_type": "code",
    "executionInfo": {
     "elapsed": 1474,
     "status": "ok",
     "timestamp": 1576677251847,
     "user": {
      "displayName": "Saikumar Dev",
      "photoUrl": "",
      "userId": "03015931960176323674"
     },
     "user_tz": -330
    },
    "id": "qlFqAUNVSXx5",
    "outputId": "431df8aa-e8ff-475f-c3c6-15ffe058c5e9"
   },
   "outputs": [
    {
     "name": "stdout",
     "output_type": "stream",
     "text": [
      "Compatibility of systems of linear constraints over the set of natural numbers.\n",
      "Criteria of compatibility of a system of linear Diophantine equations, strict inequations, and nonstrict inequations are considered.\n",
      "Upper bounds for components of a minimal set of solutions and algorithms of construction of minimal generating sets of solutions for all types of systems are given.\n",
      "These criteria and the corresponding algorithms for constructing a minimal supporting set of solutions can be used in solving all the considered types systems and systems of mixed types.\n"
     ]
    }
   ],
   "source": [
    "for sent in doc.sents:\n",
    "    print(sent)"
   ]
  },
  {
   "cell_type": "code",
   "execution_count": 0,
   "metadata": {
    "colab": {
     "base_uri": "https://localhost:8080/",
     "height": 85
    },
    "colab_type": "code",
    "executionInfo": {
     "elapsed": 1351,
     "status": "ok",
     "timestamp": 1576677272206,
     "user": {
      "displayName": "Saikumar Dev",
      "photoUrl": "",
      "userId": "03015931960176323674"
     },
     "user_tz": -330
    },
    "id": "G4_3G6BfSZTw",
    "outputId": "e5ea3a05-122b-47e8-a398-4a6b7a0fef96"
   },
   "outputs": [
    {
     "data": {
      "text/plain": [
       "[0.15674194595995644,\n",
       " 0.13714815025016455,\n",
       " 0.11782962717984638,\n",
       " 0.11639333486895956]"
      ]
     },
     "execution_count": 71,
     "metadata": {
      "tags": []
     },
     "output_type": "execute_result"
    }
   ],
   "source": [
    "unit_vector"
   ]
  },
  {
   "cell_type": "code",
   "execution_count": 0,
   "metadata": {
    "colab": {
     "base_uri": "https://localhost:8080/",
     "height": 85
    },
    "colab_type": "code",
    "executionInfo": {
     "elapsed": 2026,
     "status": "ok",
     "timestamp": 1576677283208,
     "user": {
      "displayName": "Saikumar Dev",
      "photoUrl": "",
      "userId": "03015931960176323674"
     },
     "user_tz": -330
    },
    "id": "MGmYKghOSeTg",
    "outputId": "db3644a7-275c-4027-fe3c-f7ece4d274d3"
   },
   "outputs": [
    {
     "data": {
      "text/plain": [
       "[0.2967961945055862,\n",
       " 0.25969467731457346,\n",
       " 0.223114398209173,\n",
       " 0.22039472997066747]"
      ]
     },
     "execution_count": 72,
     "metadata": {
      "tags": []
     },
     "output_type": "execute_result"
    }
   ],
   "source": [
    "sum_ranks = sum(unit_vector)\n",
    "unit_vector = [ rank/sum_ranks for rank in unit_vector ]\n",
    "\n",
    "unit_vector"
   ]
  },
  {
   "cell_type": "markdown",
   "metadata": {
    "colab_type": "text",
    "id": "JEzZAJpfSjUz"
   },
   "source": [
    "Iterate through each sentence, calculating its euclidean distance from the unit vector..."
   ]
  },
  {
   "cell_type": "code",
   "execution_count": 0,
   "metadata": {
    "colab": {
     "base_uri": "https://localhost:8080/",
     "height": 374
    },
    "colab_type": "code",
    "executionInfo": {
     "elapsed": 1417,
     "status": "ok",
     "timestamp": 1576677303944,
     "user": {
      "displayName": "Saikumar Dev",
      "photoUrl": "",
      "userId": "03015931960176323674"
     },
     "user_tz": -330
    },
    "id": "aXRrWIh3Sg1A",
    "outputId": "905770a4-c74b-4d44-c364-7e2d995f0e70"
   },
   "outputs": [
    {
     "name": "stdout",
     "output_type": "stream",
     "text": [
      "{1}\n",
      "0 0.2967961945055862\n",
      "1 0.25969467731457346\n",
      "2 0.223114398209173\n",
      "3 0.22039472997066747\n",
      "{1, 3}\n",
      "0 0.2967961945055862\n",
      "1 0.25969467731457346\n",
      "2 0.223114398209173\n",
      "3 0.22039472997066747\n",
      "{0, 1, 2}\n",
      "0 0.2967961945055862\n",
      "1 0.25969467731457346\n",
      "2 0.223114398209173\n",
      "3 0.22039472997066747\n",
      "{1, 2}\n",
      "0 0.2967961945055862\n",
      "1 0.25969467731457346\n",
      "2 0.223114398209173\n",
      "3 0.22039472997066747\n",
      "{0: 0.43178912996980673, 1: 0.37130582511083665, 2: 0.22039472997066747, 3: 0.36967799240939564}\n"
     ]
    }
   ],
   "source": [
    "from math import sqrt\n",
    "\n",
    "sent_rank = {}\n",
    "sent_id = 0\n",
    "\n",
    "for sent_start, sent_end, sent_vector in sent_bounds:\n",
    "    print(sent_vector)\n",
    "    sum_sq = 0.0\n",
    "    \n",
    "    for phrase_id in range(len(unit_vector)):\n",
    "        print(phrase_id, unit_vector[phrase_id])\n",
    "        \n",
    "        if phrase_id not in sent_vector:\n",
    "            sum_sq += unit_vector[phrase_id]**2.0\n",
    "\n",
    "    sent_rank[sent_id] = sqrt(sum_sq)\n",
    "    sent_id += 1\n",
    "\n",
    "print(sent_rank)"
   ]
  },
  {
   "cell_type": "markdown",
   "metadata": {
    "colab_type": "text",
    "id": "NUAv8sx1SoSZ"
   },
   "source": [
    "Sort the sentence indexes in descending order"
   ]
  },
  {
   "cell_type": "code",
   "execution_count": 0,
   "metadata": {
    "colab": {
     "base_uri": "https://localhost:8080/",
     "height": 85
    },
    "colab_type": "code",
    "executionInfo": {
     "elapsed": 1115,
     "status": "ok",
     "timestamp": 1576677334981,
     "user": {
      "displayName": "Saikumar Dev",
      "photoUrl": "",
      "userId": "03015931960176323674"
     },
     "user_tz": -330
    },
    "id": "9q4-5oNXSmCg",
    "outputId": "6c59a7a5-e4bd-4454-8443-065563c191c0"
   },
   "outputs": [
    {
     "data": {
      "text/plain": [
       "[(2, 0.22039472997066747),\n",
       " (3, 0.36967799240939564),\n",
       " (1, 0.37130582511083665),\n",
       " (0, 0.43178912996980673)]"
      ]
     },
     "execution_count": 74,
     "metadata": {
      "tags": []
     },
     "output_type": "execute_result"
    }
   ],
   "source": [
    "from operator import itemgetter\n",
    "\n",
    "sorted(sent_rank.items(), key=itemgetter(1))"
   ]
  },
  {
   "cell_type": "markdown",
   "metadata": {
    "colab_type": "text",
    "id": "mJ6c9vxiSwkt"
   },
   "source": [
    "Extract the sentences with the lowest distance, up to the limite requested..."
   ]
  },
  {
   "cell_type": "code",
   "execution_count": 0,
   "metadata": {
    "colab": {
     "base_uri": "https://localhost:8080/",
     "height": 71
    },
    "colab_type": "code",
    "executionInfo": {
     "elapsed": 1182,
     "status": "ok",
     "timestamp": 1576677355188,
     "user": {
      "displayName": "Saikumar Dev",
      "photoUrl": "",
      "userId": "03015931960176323674"
     },
     "user_tz": -330
    },
    "id": "QcAHmm4QStsQ",
    "outputId": "59a76c3f-6b14-41fe-cd99-6417f651288c"
   },
   "outputs": [
    {
     "name": "stdout",
     "output_type": "stream",
     "text": [
      "2 Upper bounds for components of a minimal set of solutions and algorithms of construction of minimal generating sets of solutions for all types of systems are given.\n",
      "3 These criteria and the corresponding algorithms for constructing a minimal supporting set of solutions can be used in solving all the considered types systems and systems of mixed types.\n"
     ]
    }
   ],
   "source": [
    "limit_sentences = 2\n",
    "\n",
    "sent_text = {}\n",
    "sent_id = 0\n",
    "\n",
    "for sent in doc.sents:\n",
    "    sent_text[sent_id] = sent.text\n",
    "    sent_id += 1\n",
    "\n",
    "num_sent = 0\n",
    "\n",
    "for sent_id, rank in sorted(sent_rank.items(), key=itemgetter(1)):\n",
    "    print(sent_id, sent_text[sent_id])\n",
    "    num_sent += 1\n",
    "    \n",
    "    if num_sent == limit_sentences:\n",
    "        break"
   ]
  },
  {
   "cell_type": "code",
   "execution_count": 0,
   "metadata": {
    "colab": {},
    "colab_type": "code",
    "id": "jZgtYY-PSymw"
   },
   "outputs": [],
   "source": []
  }
 ],
 "metadata": {
  "colab": {
   "collapsed_sections": [],
   "name": "Text_Summarization_PyTextRank.ipynb",
   "provenance": [
    {
     "file_id": "10QqztbNHr2roce3XRsRMx7SiY8lrsVhF",
     "timestamp": 1576678984205
    }
   ]
  },
  "kernelspec": {
   "display_name": "Python 3",
   "language": "python",
   "name": "python3"
  },
  "language_info": {
   "codemirror_mode": {
    "name": "ipython",
    "version": 3
   },
   "file_extension": ".py",
   "mimetype": "text/x-python",
   "name": "python",
   "nbconvert_exporter": "python",
   "pygments_lexer": "ipython3",
   "version": "3.7.0"
  }
 },
 "nbformat": 4,
 "nbformat_minor": 1
}
