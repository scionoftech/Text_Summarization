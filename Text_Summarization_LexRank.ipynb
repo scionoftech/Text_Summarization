{
 "cells": [
  {
   "cell_type": "markdown",
   "metadata": {
    "colab_type": "text",
    "id": "LCzCAelCEyI8"
   },
   "source": [
    "# Text Summarization\n",
    "\n",
    "Text summarization refers to the technique of shortening long pieces of text. The intention is to create a coherent and fluent summary having only the main points outlined in the document.\n",
    "Automatic text summarization is a common problem in machine learning and natural language processing (NLP)."
   ]
  },
  {
   "cell_type": "markdown",
   "metadata": {
    "colab_type": "text",
    "id": "GDffqoZTNa77"
   },
   "source": [
    "There are broadly two different approaches that are used for text summarization:\n",
    "\n",
    "* Extractive Summarization\n",
    "* Abstractive Summarization\n"
   ]
  },
  {
   "cell_type": "markdown",
   "metadata": {
    "colab_type": "text",
    "id": "_TttZz-jNdY5"
   },
   "source": [
    "In this notebook, we will build an extraction based text summarizer using python"
   ]
  },
  {
   "cell_type": "markdown",
   "metadata": {
    "colab_type": "text",
    "id": "_PunVOZUNtyw"
   },
   "source": [
    "### Extractive Summarization\n",
    "The name gives away what this approach does. We identify the important sentences or phrases from the original text and extract only those from the text. Those extracted sentences would be our summary. The below diagram illustrates extractive summarization:"
   ]
  },
  {
   "cell_type": "markdown",
   "metadata": {
    "colab_type": "text",
    "id": "yOgk05CuNy9Z"
   },
   "source": [
    "![Extractive Summarization](images/Extractive_Summarization.png)"
   ]
  },
  {
   "cell_type": "markdown",
   "metadata": {
    "colab_type": "text",
    "id": "FdTYgBOqE_lF"
   },
   "source": [
    "# LexRank Algorithm\n",
    "\n",
    "LexRank is another graph-based algorithm for automated text summarization, introduced by Güneş Erkan and Dragomir R. Radev A cluster of documents can be viewed as a network of sentences that are related to each other. Some sentences are more similar to each other while some others may share only a little information with the rest of the sentences. Like TextRank, LexRank too uses the PageRank algorithm for extracting top keywords. The key difference between the algorithms is the weighting function used for assigning weights to the edges of the graph. While TextRank simply assumes all weights to be unit weights and computes ranks like a typical PageRank execution, LexRank uses degrees of similarity between words and phrases and computes the centrality of the sentences to assign weights."
   ]
  },
  {
   "cell_type": "markdown",
   "metadata": {},
   "source": [
    "![TextRank](images/text_rank.png)"
   ]
  },
  {
   "cell_type": "markdown",
   "metadata": {
    "colab_type": "text",
    "id": "r5uqWD0Jf05O"
   },
   "source": [
    "The objective here is to generate a summary for the News Articles using the extractive-based approach. You can download the dataset from[ here ](http://mlg.ucd.ie/files/datasets/bbc-fulltext.zip)\n"
   ]
  },
  {
   "cell_type": "markdown",
   "metadata": {
    "colab_type": "text",
    "id": "diVkUpEnYF59"
   },
   "source": [
    "# Text Summarization using LexRank\n",
    "https://github.com/crabcamp/lexrank"
   ]
  },
  {
   "cell_type": "markdown",
   "metadata": {},
   "source": [
    "## Import the Libraries"
   ]
  },
  {
   "cell_type": "code",
   "execution_count": 0,
   "metadata": {
    "colab": {},
    "colab_type": "code",
    "id": "g9UABLEYcsGL"
   },
   "outputs": [],
   "source": [
    "# ! pip install lexrank"
   ]
  },
  {
   "cell_type": "code",
   "execution_count": 7,
   "metadata": {
    "colab": {},
    "colab_type": "code",
    "id": "jZgtYY-PSymw"
   },
   "outputs": [],
   "source": [
    "from lexrank import LexRank\n",
    "from lexrank.mappings.stopwords import STOPWORDS\n",
    "import pandas as pd\n",
    "import numpy as np\n",
    "from path import Path"
   ]
  },
  {
   "cell_type": "markdown",
   "metadata": {},
   "source": [
    "## Read the dataset"
   ]
  },
  {
   "cell_type": "code",
   "execution_count": null,
   "metadata": {},
   "outputs": [],
   "source": [
    "# ! wget http://mlg.ucd.ie/files/datasets/bbc-fulltext.zip\n",
    "# ! unzip bbc-fulltext.zip"
   ]
  },
  {
   "cell_type": "code",
   "execution_count": 0,
   "metadata": {
    "colab": {},
    "colab_type": "code",
    "id": "g6JJW19ueWb5"
   },
   "outputs": [],
   "source": [
    "project_path = \"/text_summarization/\""
   ]
  },
  {
   "cell_type": "code",
   "execution_count": 0,
   "metadata": {
    "colab": {},
    "colab_type": "code",
    "id": "R85fqQIKekkB"
   },
   "outputs": [],
   "source": [
    "documents = []\n",
    "documents_dir = Path('bbc/politics')\n",
    "\n",
    "for file_path in documents_dir.files('*.txt'):\n",
    "    with file_path.open(mode='rt', encoding='utf-8') as fp:\n",
    "        documents.append(fp.readlines())"
   ]
  },
  {
   "cell_type": "code",
   "execution_count": 27,
   "metadata": {
    "colab": {
     "base_uri": "https://localhost:8080/",
     "height": 34
    },
    "colab_type": "code",
    "executionInfo": {
     "elapsed": 1160,
     "status": "ok",
     "timestamp": 1576683578149,
     "user": {
      "displayName": "Saikumar Dev",
      "photoUrl": "",
      "userId": "03015931960176323674"
     },
     "user_tz": -330
    },
    "id": "tj-D7eX_qfuO",
    "outputId": "119d5b3b-0bab-4f8e-d5c3-6bdb134c821a"
   },
   "outputs": [
    {
     "data": {
      "text/plain": [
       "417"
      ]
     },
     "execution_count": 27,
     "metadata": {
      "tags": []
     },
     "output_type": "execute_result"
    }
   ],
   "source": [
    "len(documents)"
   ]
  },
  {
   "cell_type": "markdown",
   "metadata": {},
   "source": [
    "## Text Summarization using LexRank Algorithm"
   ]
  },
  {
   "cell_type": "code",
   "execution_count": 0,
   "metadata": {
    "colab": {},
    "colab_type": "code",
    "id": "C67_bov_fUyR"
   },
   "outputs": [],
   "source": [
    "lxr = LexRank(documents, stopwords=STOPWORDS['en'])"
   ]
  },
  {
   "cell_type": "code",
   "execution_count": 0,
   "metadata": {
    "colab": {},
    "colab_type": "code",
    "id": "eTH1PUUYcYZa"
   },
   "outputs": [],
   "source": [
    "sentences = [\n",
    "    'One of David Cameron\\'s closest friends and Conservative allies, '\n",
    "    'George Osborne rose rapidly after becoming MP for Tatton in 2001.',\n",
    "\n",
    "    'Michael Howard promoted him from shadow chief secretary to the '\n",
    "    'Treasury to shadow chancellor in May 2005, at the age of 34.',\n",
    "\n",
    "    'Mr Osborne took a key role in the election campaign and has been at '\n",
    "    'the forefront of the debate on how to deal with the recession and '\n",
    "    'the UK\\'s spending deficit.',\n",
    "\n",
    "    'Even before Mr Cameron became leader the two were being likened to '\n",
    "    'Labour\\'s Blair/Brown duo. The two have emulated them by becoming '\n",
    "    'prime minister and chancellor, but will want to avoid the spats.',\n",
    "\n",
    "    'Before entering Parliament, he was a special adviser in the '\n",
    "    'agriculture department when the Tories were in government and later '\n",
    "    'served as political secretary to William Hague.',\n",
    "\n",
    "    'The BBC understands that as chancellor, Mr Osborne, along with the '\n",
    "    'Treasury will retain responsibility for overseeing banks and '\n",
    "    'financial regulation.',\n",
    "\n",
    "    'Mr Osborne said the coalition government was planning to change the '\n",
    "    'tax system \\\"to make it fairer for people on low and middle '\n",
    "    'incomes\\\", and undertake \\\"long-term structural reform\\\" of the '\n",
    "    'banking sector, education and the welfare state.',\n",
    "]"
   ]
  },
  {
   "cell_type": "code",
   "execution_count": 29,
   "metadata": {
    "colab": {
     "base_uri": "https://localhost:8080/",
     "height": 54
    },
    "colab_type": "code",
    "executionInfo": {
     "elapsed": 989,
     "status": "ok",
     "timestamp": 1576683583823,
     "user": {
      "displayName": "Saikumar Dev",
      "photoUrl": "",
      "userId": "03015931960176323674"
     },
     "user_tz": -330
    },
    "id": "akNivF8IeiEy",
    "outputId": "60eefa81-98fc-4dbd-974f-73816a47d6d4"
   },
   "outputs": [
    {
     "name": "stdout",
     "output_type": "stream",
     "text": [
      "['Mr Osborne said the coalition government was planning to change the tax system \"to make it fairer for people on low and middle incomes\", and undertake \"long-term structural reform\" of the banking sector, education and the welfare state.', 'The BBC understands that as chancellor, Mr Osborne, along with the Treasury will retain responsibility for overseeing banks and financial regulation.']\n"
     ]
    }
   ],
   "source": [
    "# get summary with classical LexRank algorithm\n",
    "summary = lxr.get_summary(sentences, summary_size=2, threshold=.1)\n",
    "print(summary)"
   ]
  },
  {
   "cell_type": "code",
   "execution_count": 30,
   "metadata": {
    "colab": {
     "base_uri": "https://localhost:8080/",
     "height": 54
    },
    "colab_type": "code",
    "executionInfo": {
     "elapsed": 1395,
     "status": "ok",
     "timestamp": 1576683597687,
     "user": {
      "displayName": "Saikumar Dev",
      "photoUrl": "",
      "userId": "03015931960176323674"
     },
     "user_tz": -330
    },
    "id": "ZzEGW9GWfNVJ",
    "outputId": "afc0cf50-446c-4eb2-c2e2-53258f8d6933"
   },
   "outputs": [
    {
     "name": "stdout",
     "output_type": "stream",
     "text": [
      "['The BBC understands that as chancellor, Mr Osborne, along with the Treasury will retain responsibility for overseeing banks and financial regulation.']\n"
     ]
    }
   ],
   "source": [
    "# get summary with continuous LexRank\n",
    "summary_cont = lxr.get_summary(sentences, threshold=None)\n",
    "print(summary_cont)"
   ]
  },
  {
   "cell_type": "code",
   "execution_count": 31,
   "metadata": {
    "colab": {
     "base_uri": "https://localhost:8080/",
     "height": 51
    },
    "colab_type": "code",
    "executionInfo": {
     "elapsed": 1295,
     "status": "ok",
     "timestamp": 1576683607478,
     "user": {
      "displayName": "Saikumar Dev",
      "photoUrl": "",
      "userId": "03015931960176323674"
     },
     "user_tz": -330
    },
    "id": "7xtBpaTvfNSZ",
    "outputId": "bb891ecf-e83f-4fc9-cb97-988c757fa505"
   },
   "outputs": [
    {
     "name": "stdout",
     "output_type": "stream",
     "text": [
      "[1.0896493  0.9010712  1.11391665 0.82795233 0.81120286 1.18522891\n",
      " 1.07097876]\n"
     ]
    }
   ],
   "source": [
    "# get LexRank scores for sentences\n",
    "# 'fast_power_method' speeds up the calculation, but requires more RAM\n",
    "scores_cont = lxr.rank_sentences(\n",
    "    sentences,\n",
    "    threshold=None,\n",
    "    fast_power_method=False,\n",
    ")\n",
    "print(scores_cont)"
   ]
  },
  {
   "cell_type": "code",
   "execution_count": 0,
   "metadata": {
    "colab": {},
    "colab_type": "code",
    "id": "_phpyBHifNP5"
   },
   "outputs": [],
   "source": []
  }
 ],
 "metadata": {
  "colab": {
   "collapsed_sections": [],
   "name": "Text_Summarization_LexRank.ipynb",
   "provenance": [
    {
     "file_id": "1zacFxwRopN2YdLoG3On8yBfHrYvEEDJw",
     "timestamp": 1576679316108
    },
    {
     "file_id": "10QqztbNHr2roce3XRsRMx7SiY8lrsVhF",
     "timestamp": 1576678984205
    }
   ]
  },
  "kernelspec": {
   "display_name": "Python 3",
   "language": "python",
   "name": "python3"
  },
  "language_info": {
   "codemirror_mode": {
    "name": "ipython",
    "version": 3
   },
   "file_extension": ".py",
   "mimetype": "text/x-python",
   "name": "python",
   "nbconvert_exporter": "python",
   "pygments_lexer": "ipython3",
   "version": "3.7.0"
  }
 },
 "nbformat": 4,
 "nbformat_minor": 1
}
